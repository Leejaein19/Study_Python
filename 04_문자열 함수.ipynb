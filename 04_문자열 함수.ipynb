{
 "cells": [
  {
   "cell_type": "markdown",
   "metadata": {},
   "source": [
    "## **문자열 함수**"
   ]
  },
  {
   "cell_type": "code",
   "execution_count": null,
   "metadata": {},
   "outputs": [],
   "source": [
    "string = 'We are the champions, My friends!'"
   ]
  },
  {
   "cell_type": "markdown",
   "metadata": {},
   "source": [
    "1. len(): 문자열의 구성하는 문자의 개수를 얻어온다."
   ]
  },
  {
   "cell_type": "code",
   "execution_count": null,
   "metadata": {},
   "outputs": [],
   "source": [
    "print(len(string))"
   ]
  },
  {
   "cell_type": "markdown",
   "metadata": {},
   "source": [
    "2. count(): 인수로 지정된 문자열의 출현 횟수를 얻어온다.\n",
    "- 인수로 지정된 문자열이 특정 문자열에 포함되어있나 알 수 있다. => 결과가 1이상이면 포함, 0이면 불포함\n",
    "- 실행 결과가 2이상이라면 중복되는 데이터가 포함되어있다는 의미로 사용할 수 있다."
   ]
  },
  {
   "cell_type": "code",
   "execution_count": null,
   "metadata": {},
   "outputs": [],
   "source": [
    "# count()\n",
    "print(string.count('e'))\n",
    "print(string.count('We'))\n",
    "print(string.count('we'))"
   ]
  },
  {
   "cell_type": "markdown",
   "metadata": {},
   "source": [
    "3. index(): 인수로 지정된 문자열의 최초로 출현하는 인덱스를 얻어온다.\n",
    "- 인수로 지정된 문자열이 특정 문자열에 포함되어있나 알 수 있다. => 결과가 0이상이면 포함\n",
    "- 인수로 지정된 문자열이 포함되어있지 않을 경우 에러가 발생된다."
   ]
  },
  {
   "cell_type": "code",
   "execution_count": null,
   "metadata": {},
   "outputs": [],
   "source": [
    "# index()\n",
    "print(string.index('e'))\n",
    "print(string.index('We'))\n",
    "print(string.index('we'))"
   ]
  },
  {
   "cell_type": "markdown",
   "metadata": {},
   "source": [
    "4. find(): 인수로 지정된 문자열의 최초로 출현하는 인덱스를 얻어온다.\n",
    "- 인수로 지정된 문자열이 특정 문자열에 포함되어있나 알 수 있다. => 결과가 0이상이면 포함\n",
    "- 인수로 지정된 문자열이 포함되어있지 않을 경우 -1이 리턴된다."
   ]
  },
  {
   "cell_type": "code",
   "execution_count": null,
   "metadata": {},
   "outputs": [],
   "source": [
    "print(string.find('e'))\n",
    "print(string.find('We'))\n",
    "print(string.find('we'))"
   ]
  },
  {
   "cell_type": "markdown",
   "metadata": {},
   "source": [
    "5. join(): 인수로 지정된 문자열을 특정 문자열의 문자와 문자 사이에 삽입한다."
   ]
  },
  {
   "cell_type": "code",
   "execution_count": null,
   "metadata": {},
   "outputs": [],
   "source": [
    "string = 'Nice to meet you!'\n",
    "print('/'.join(string))\n",
    "print('^^;'.join(string))\n",
    "print('~(^^~)'.join(string))\n",
    "print(' '.join(string))"
   ]
  },
  {
   "cell_type": "markdown",
   "metadata": {},
   "source": [
    "6. upper(): 문자열 전체를 대문자로  \n",
    "   lower() : 문자열을 전체를 소문자로 변환한다."
   ]
  },
  {
   "cell_type": "code",
   "execution_count": null,
   "metadata": {},
   "outputs": [],
   "source": [
    "print(string.upper())\n",
    "print(string.lower())"
   ]
  },
  {
   "cell_type": "markdown",
   "metadata": {},
   "source": [
    "7. lstrip(): 문자열의 왼쪽(앞)의 불필요한 공백을 제거한다.  \n",
    "   rstrip(): 문자열의 오른쪽(뒤)의 불필요한 공백을 제거한다.  \n",
    "   strip(): 문자열 앞, 뒤의 불필요한 공백을 제거한다."
   ]
  },
  {
   "cell_type": "code",
   "execution_count": null,
   "metadata": {},
   "outputs": [],
   "source": [
    "string = '    Python    '\n",
    "print(len(string))\n",
    "print(string)\n",
    "# lstrip()\n",
    "print(len(string.lstrip()))\n",
    "print(string.lstrip())\n",
    "# rstrip()\n",
    "print(len(string.rstrip()))\n",
    "print(string.rstrip())\n",
    "# strip()\n",
    "print(len(string.strip()))\n",
    "print(string.strip())\n",
    "# strip() 메소드 응용\n",
    "# strip() 메소드에 인수로 지정하면 양 끝에 지정된 인수가 나타나지 않을 때 까지 문자를 제거한다.\n",
    "# 인수에 입력한 문자의 순서와 제거하는 순서는 아무런 상관이 없다.\n",
    "print('www.example.com'.strip('owcm.e')) # 'o','w','c','m','.','e' 가 나오지 않을 때까지 문자 제거"
   ]
  },
  {
   "cell_type": "markdown",
   "metadata": {},
   "source": [
    "8. replace(oldString, newString): 문자열의 모든 oldString을 newString으로 치환한다."
   ]
  },
  {
   "cell_type": "code",
   "execution_count": null,
   "metadata": {},
   "outputs": [],
   "source": [
    "string = 'We are the champions, My friends!'\n",
    "print(string.replace('My', 'Your'))\n",
    "print(string.replace('e', '뷁'))"
   ]
  },
  {
   "cell_type": "markdown",
   "metadata": {},
   "source": [
    "9. split(): 문자열을 인수로 지정된 구분자를 이용해서 나눈다. => split() 메소드의 실행 결과는 list 타입으로 리턴된다."
   ]
  },
  {
   "cell_type": "code",
   "execution_count": null,
   "metadata": {},
   "outputs": [],
   "source": [
    "string = 'We are the champions, My friends!'\n",
    "print(string.split()) # 구분자를 생략하면 공백이 기본 구분자로 사용된다.\n",
    "print(type(string.split()))\n",
    "print(string.split(','))"
   ]
  },
  {
   "cell_type": "markdown",
   "metadata": {},
   "source": [
    "파이썬 공백 처리 방법"
   ]
  },
  {
   "cell_type": "code",
   "execution_count": null,
   "metadata": {},
   "outputs": [],
   "source": [
    "string = '                           hello                                   python                            '\n",
    "print(string)\n",
    "print(string.strip())"
   ]
  },
  {
   "cell_type": "code",
   "execution_count": null,
   "metadata": {},
   "outputs": [],
   "source": [
    "# replace() 메소드를 사용해서 단어 사이의 모든 공백을 제거할 수 있다. => 단, 띄어쓰기도 안된다.\n",
    "print(string.replace(' ', ''))"
   ]
  },
  {
   "cell_type": "code",
   "execution_count": null,
   "metadata": {},
   "outputs": [],
   "source": [
    "# split() 메소드를 사용해서 문자열 앞, 뒤의 모든 빈 칸을 제거하고\n",
    "# join() 메소드를 사용해서 문자열 사이에 2칸 이상 띄어쓰기를 한 곳은 1칸만 띄어쓰기가 되게 한다.\n",
    "print(string.split())\n",
    "print(' '.join(string.split()))"
   ]
  },
  {
   "cell_type": "code",
   "execution_count": null,
   "metadata": {},
   "outputs": [],
   "source": []
  }
 ],
 "metadata": {
  "kernelspec": {
   "display_name": "Python 3",
   "language": "python",
   "name": "python3"
  },
  "language_info": {
   "codemirror_mode": {
    "name": "ipython",
    "version": 3
   },
   "file_extension": ".py",
   "mimetype": "text/x-python",
   "name": "python",
   "nbconvert_exporter": "python",
   "pygments_lexer": "ipython3",
   "version": "3.8.8"
  }
 },
 "nbformat": 4,
 "nbformat_minor": 4
}
